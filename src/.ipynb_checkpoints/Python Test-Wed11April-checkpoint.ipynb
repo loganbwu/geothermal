{
 "cells": [
  {
   "cell_type": "markdown",
   "metadata": {},
   "source": [
    "# ENGSCI 700 Geothermal Reservoir Optimisation\n",
    "\n",
    "This workbook is for extracting Contact well data and recreating the plots.\n",
    "\n",
    "(Unix) launch with `cd src` >`jupyter notebook`\n",
    "\n",
    "File structure: \n",
    "```\n",
    "(root)\n",
    "├── src\n",
    "│    └── Python Test.ipynb\n",
    "└── wairakei_data\n",
    "     └── Liquid wells (version 1).xlsx\n",
    "```"
   ]
  },
  {
   "cell_type": "code",
   "execution_count": null,
   "metadata": {},
   "outputs": [],
   "source": [
    "import pandas as pd\n",
    "import numpy as np\n",
    "import seaborn as sns\n",
    "import math\n",
    "import matplotlib.pyplot as plt\n",
    "%matplotlib inline\n",
    "\n",
    "# Check if Excel file is already in memory (loading is slow)\n",
    "try:\n",
    "    xl\n",
    "except:\n",
    "    xl = pd.ExcelFile('../wairakei_data/Liquid wells (version 1).xlsx')\n",
    "print(xl.sheet_names[:5], '...')"
   ]
  },
  {
   "cell_type": "markdown",
   "metadata": {},
   "source": [
    "## Prepare data"
   ]
  },
  {
   "cell_type": "code",
   "execution_count": null,
   "metadata": {},
   "outputs": [],
   "source": [
    "# wells = ['w254', 'wk255', 'wk256', 'w258', 'w259','w260']  # wells to load data from, if only want to do one well just get rid of other names\n",
    "wells=\n",
    "\n",
    "dfs = []\n",
    "for well in wells:\n",
    "    df = xl.parse(well)                                       # select well data\n",
    "    df['well'] = well                                            # label data with well name\n",
    "    dfs.append(df)\n",
    "df = pd.concat(dfs)\n",
    "\n",
    "# df = df.loc[:, ~df.columns.str.contains('^Unnamed|SUMMARY|slope|intercept')]     # remove extra columns\n",
    "df = df[['date', 'whp', 'mf', 'h', 'well']]                      # instead, only keep certain columns\n",
    "df['mf'] = pd.to_numeric(df['mf'], errors='coerce')              # remove 'dummy' entries\n",
    "df = df.dropna(subset=['date', 'whp', 'mf'])                     # remove NA\n",
    "\n",
    "df['date_numeric'] = (df['date'] - df['date'].min())  / np.timedelta64(1,'D') #  date_numeric = days since first day in data\n",
    "\n",
    "#This is the earliest date in the data, this possibly should be different for each well but is not at the moment??\n",
    "#first_date = np.min(df['date']) \n",
    "first_date = df['date'].min() \n",
    "\n",
    "print(df.head())\n",
    "print(first_date)"
   ]
  },
  {
   "cell_type": "markdown",
   "metadata": {},
   "source": [
    "## Create exploratory plots"
   ]
  },
  {
   "cell_type": "code",
   "execution_count": null,
   "metadata": {},
   "outputs": [],
   "source": [
    "import itertools\n",
    "\n",
    "cmap = plt.get_cmap('viridis')\n",
    "fig, (ax1, ax2) = plt.subplots(1,2, figsize=[14,4])\n",
    "fig.tight_layout() #spreads out the plots\n",
    "\n",
    "# left plot (not that useful tbh)\n",
    "#could be useful if different wells have different symbols but i cant figure out how to do this\n",
    "df.plot('date', 'whp', style='x', ax=ax1)\n",
    "ax1.set_xlabel('date')\n",
    "ax1.set_ylabel('whp')\n",
    "\n",
    "# right plot (different colours represent time)\n",
    "marker = itertools.cycle(['o', ',', '+', 'x', '*', '.'])\n",
    "for well in wells:\n",
    "    plt.scatter('whp', 'mf', c='date_numeric', data=df.loc[df['well']==well], marker=next(marker), label=well)\n",
    "ax2.set_xlabel('whp')\n",
    "ax2.set_ylabel('mf')\n",
    "plt.legend()\n",
    "\n",
    "plt.show()"
   ]
  },
  {
   "cell_type": "markdown",
   "metadata": {},
   "source": [
    "## Set up regression data and create prediction frame for plotting"
   ]
  },
  {
   "cell_type": "code",
   "execution_count": null,
   "metadata": {},
   "outputs": [],
   "source": [
    "from itertools import product\n",
    "\n",
    "# generate prediction dataframe for plotting\n",
    "date_pred = np.linspace(np.min(df['date_numeric']), np.max(df['date_numeric']), 6)\n",
    "whp_pred = np.linspace(0, 16, 1000)\n",
    "well_pred = wells\n",
    "pred = pd.DataFrame(list(product(date_pred, whp_pred, well_pred)), columns=['date_numeric', 'whp', 'well'])\n",
    "print(pred.head())"
   ]
  },
  {
   "cell_type": "markdown",
   "metadata": {},
   "source": [
    "## Perform regression and prediction"
   ]
  },
  {
   "cell_type": "code",
   "execution_count": null,
   "metadata": {},
   "outputs": [],
   "source": [
    "from statsmodels.formula.api import ols\n",
    "\n",
    "# Not conditioned on date\n",
    "model1 = ols(\"mf ~ well * whp\", data=df)\n",
    "results1 = model1.fit()\n",
    "pred['mf1'] = results1.predict(pred)\n",
    "\n",
    "# Linear fit dependent on date\n",
    "model2 = ols(\"mf ~ well * (whp + date_numeric)\", data=df)\n",
    "results2 = model2.fit()\n",
    "pred['mf2'] = results2.predict(pred)\n",
    "\n",
    "# Elliptic fit dependent on date\n",
    "model3 = ols(\"np.power(mf,2) ~ well * (np.power(whp,2) + date_numeric)\", data=df)\n",
    "results3 = model3.fit()\n",
    "pred['mf^2'] = results3.predict(pred)\n",
    "pred.loc[pred['mf^2'] < 0, 'mf^2'] = np.nan    # remove invalid results\n",
    "pred['mf3'] = np.sqrt(pred['mf^2'])\n",
    "\n",
    "#print(results3.params)\n",
    "print(pred.head())\n",
    "\n",
    "#We should also append a column to df (original data), of predicted mass flow, for comparison and because they do in spreadsheet"
   ]
  },
  {
   "cell_type": "markdown",
   "metadata": {},
   "source": [
    "## Create plots"
   ]
  },
  {
   "cell_type": "code",
   "execution_count": null,
   "metadata": {},
   "outputs": [],
   "source": [
    "# ===============================================================\n",
    "# Set up axes\n",
    "# ===============================================================\n",
    "\n",
    "from matplotlib.colors import Normalize\n",
    "from matplotlib.colorbar import ColorbarBase\n",
    "\n",
    "# colors\n",
    "indices = np.linspace(0, cmap.N, len(df))\n",
    "my_colors = [cmap(int(i)) for i in indices]\n",
    "\n",
    "# subplots\n",
    "fig, (ax1, ax2, ax3, ax4) = plt.subplots(1, 4, figsize=[14,4], gridspec_kw={'width_ratios': [9,9,9,1]})\n",
    "ax1.get_shared_y_axes().join(ax1, ax2, ax3)\n",
    "ax1.set_ylim([0, 1000])\n",
    "ax1.set_title('$mf \\sim whp$')\n",
    "ax1.set_ylabel('Mass flow')\n",
    "ax1.set_xlabel(\"Well head pressure\")\n",
    "ax1.set_xlim(0, 16)\n",
    "ax2.set_title('$mf \\sim whp + date$')\n",
    "ax3.set_title('$mf^2 \\sim whp^2 + date$')\n",
    "for ax in [ax2, ax3]:\n",
    "    ax.set_yticklabels([])\n",
    "    ax.set_xlim(0, 16)\n",
    "\n",
    "# create date colorbar\n",
    "indices = np.linspace(0, cmap.N, len(date_pred))\n",
    "my_colors = [cmap(int(i)) for i in indices]\n",
    "norm = Normalize(np.min(df['date']).year, np.max(df['date']).year)\n",
    "cb = ColorbarBase(ax4, cmap=cmap, norm=norm, orientation='vertical')\n",
    "cb.set_label('Year')\n",
    "\n",
    "linestyles = itertools.cycle(('-', '--', '-.', ':'))\n",
    "\n",
    "# ===============================================================\n",
    "# Plot data\n",
    "# ===============================================================\n",
    "\n",
    "# plot data points\n",
    "marker.__init__()\n",
    "for well in wells:\n",
    "    mkr = next(marker)\n",
    "    for ax in [ax1, ax2, ax3]:\n",
    "        ax.scatter('whp', 'mf', c='date_numeric', data=df.loc[df['well']==well], marker=mkr, label=well)\n",
    "    \n",
    "for well in wells:\n",
    "    \n",
    "    lty = next(linestyles)\n",
    "    # model 1\n",
    "    # 'data' argument filters the data to just the data from one well, using a single date\n",
    "    ax1.plot('whp', 'mf1', lty, data=pred[(pred['well']==well) & (pred['date_numeric']==np.min(pred['date_numeric']))])\n",
    "\n",
    "    # model 2 & 3\n",
    "    for i, date in enumerate(date_pred):\n",
    "        # 'data' argument similar, for a specific prediction date in the loop\n",
    "        ax2.plot('whp', 'mf2', lty, data=pred[(pred['well']==well) & (pred['date_numeric']==date)], c=my_colors[i])\n",
    "        ax3.plot('whp', 'mf3', lty, data=pred[(pred['well']==well) & (pred['date_numeric']==date)], c=my_colors[i])\n",
    "\n",
    "# show model selection criteria\n",
    "for ax, result in zip([ax1, ax2, ax3], [results1, results2, results3]):\n",
    "    ax.legend(['Adj $R^2$: %.2f' % result.rsquared_adj,\n",
    "               'AIC: %.2f' % result.aic], \n",
    "              handlelength=0, handletextpad=0, loc=1).legendHandles[0].set_visible(False)"
   ]
  },
  {
   "cell_type": "markdown",
   "metadata": {},
   "source": [
    "## Plots Using only Elliptical Model\n",
    "\n",
    "Next step is to automatically create the number of subplot in rows of 3 cols (with fourth col being colour bar)\n",
    "\n",
    "Also need to refine colour bar or check how its created as Im not sure about colours)"
   ]
  },
  {
   "cell_type": "code",
   "execution_count": null,
   "metadata": {},
   "outputs": [],
   "source": [
    "# ===============================================================\n",
    "# Set up axes\n",
    "# ===============================================================\n",
    "from matplotlib.colors import Normalize\n",
    "from matplotlib.colorbar import ColorbarBase\n",
    "\n",
    "# colors\n",
    "indices = np.linspace(0, cmap.N, len(df))\n",
    "my_colors = [cmap(int(i)) for i in indices]\n",
    "\n",
    "# subplots\n",
    "fig, (ax1, ax2, ax3, ax4) = plt.subplots(1, 4, figsize=[16,4], gridspec_kw={'width_ratios': [9,9,9,1]})\n",
    "ax1.get_shared_y_axes().join(ax1, ax2, ax3)\n",
    "ax1.set_ylim([0, 1000])\n",
    "ax1.set_ylabel('Mass flow')\n",
    "\n",
    "# create date colorbar\n",
    "indices = np.linspace(0, cmap.N, len(date_pred))\n",
    "my_colors = [cmap(int(i)) for i in indices]\n",
    "norm = Normalize(np.min(df['date']).year, np.max(df['date']).year)\n",
    "cb = ColorbarBase(ax4, cmap=cmap, norm=norm, orientation='vertical')\n",
    "cb.set_label('Year')\n",
    "\n",
    "linestyles = itertools.cycle(('-', '--', '-.', ':'))\n",
    "\n",
    "# ===============================================================\n",
    "# Plot data\n",
    "# ===============================================================\n",
    "\n",
    "# plot data points\n",
    "for ax, well in zip([ax1, ax2, ax3], wells):\n",
    "    ax.scatter('whp', 'mf', c='date_numeric', data=df.loc[df['well']==well], marker=mkr, label=well)\n",
    "    ax.set_xlabel(\"Well head pressure\")\n",
    "    ax.set_title(well)\n",
    "    ax.set_yticklabels([])\n",
    "    ax.set_xlim(0, 16)\n",
    "    \n",
    "lty = next(linestyles)\n",
    "\n",
    "for i, date in enumerate(date_pred):\n",
    "    # 'data' argument similar, for a specific prediction date in the loop\n",
    "    ax1.plot('whp', 'mf3', lty, data=pred[(pred['well']==wells[0]) & (pred['date_numeric']==date)], c=my_colors[i])\n",
    "    ax2.plot('whp', 'mf3', lty, data=pred[(pred['well']==wells[1]) & (pred['date_numeric']==date)], c=my_colors[i])\n",
    "    ax3.plot('whp', 'mf3', lty, data=pred[(pred['well']==wells[2]) & (pred['date_numeric']==date)], c=my_colors[i])\n",
    "\n",
    "# # show model selection criteria (adj R^2 and AIC)\n",
    "# for ax, result in zip([ax1, ax2, ax3], [results1, results2, results3]):\n",
    "#     ax.legend(['Adj $R^2$: %.2f' % result.rsquared_adj,\n",
    "#                'AIC: %.2f' % result.aic], \n",
    "#               handlelength=0, handletextpad=0, loc=1).legendHandles[0].set_visible(False)\n",
    "\n",
    "print(\"Adjusted R^2 is: %.2f\" % results3.rsquared_adj)\n",
    "print(\"AIC is: %.2f\" % results3.aic)"
   ]
  },
  {
   "cell_type": "code",
   "execution_count": null,
   "metadata": {},
   "outputs": [],
   "source": [
    "num_rows_needed=math.ceil(len(wells)/3)\n",
    "\n",
    "# ===============================================================\n",
    "# Set up axes\n",
    "# ===============================================================\n",
    "from matplotlib.colors import Normalize\n",
    "from matplotlib.colorbar import ColorbarBase\n",
    "\n",
    "# colors\n",
    "indices = np.linspace(0, cmap.N, len(df))\n",
    "my_colors = [cmap(int(i)) for i in indices]\n",
    "\n",
    "# subplots\n",
    "fig, axes = plt.subplots(num_rows_needed, 4, figsize=[16,4], gridspec_kw={'width_ratios': [9,9,9,1]})\n",
    "#ax1.get_shared_y_axes().join(ax1, ax2, ax3)\n",
    "\n",
    "# create date colorbar\n",
    "indices = np.linspace(0, cmap.N, len(date_pred))\n",
    "my_colors = [cmap(int(i)) for i in indices]\n",
    "norm = Normalize(np.min(df['date']).year, np.max(df['date']).year)\n",
    "# cb = ColorbarBase(axes[3], cmap=cmap, norm=norm, orientation='vertical')\n",
    "# cb.set_label('Year')\n",
    "\n",
    "linestyles = itertools.cycle(('-', '--', '-.', ':'))\n",
    "\n",
    "# ===============================================================\n",
    "# Plot data\n",
    "# ===============================================================\n",
    "\n",
    "# plot data points\n",
    "for ax, well in zip(axes, wells):\n",
    "    if ax==axes[4]:\n",
    "        cb = ColorbarBase(axes[3], cmap=cmap, norm=norm, orientation='vertical')\n",
    "        cb.set_label('Year')\n",
    "    else:\n",
    "        ax.scatter('whp', 'mf', c='date_numeric', data=df.loc[df['well']==well], marker=mkr, label=well)\n",
    "        ax.set_xlabel(\"Well head pressure\")\n",
    "        ax.set_title(well)\n",
    "        ax.set_yticklabels([])\n",
    "        ax.set_xlim(0, 16)\n",
    "        ax.set_ylim([0, 1000])\n",
    "        ax.set_ylabel('Mass flow')\n",
    "\n",
    "lty = next(linestyles)\n",
    "\n",
    "for i, date in enumerate(date_pred):\n",
    "    # 'data' argument similar, for a specific prediction date in the loop\n",
    "    ax1.plot('whp', 'mf3', lty, data=pred[(pred['well']==wells[0]) & (pred['date_numeric']==date)], c=my_colors[i])\n",
    "    ax2.plot('whp', 'mf3', lty, data=pred[(pred['well']==wells[1]) & (pred['date_numeric']==date)], c=my_colors[i])\n",
    "    ax3.plot('whp', 'mf3', lty, data=pred[(pred['well']==wells[2]) & (pred['date_numeric']==date)], c=my_colors[i])\n",
    "\n",
    "# # show model selection criteria (adj R^2 and AIC)\n",
    "# for ax, result in zip([ax1, ax2, ax3], [results1, results2, results3]):\n",
    "#     ax.legend(['Adj $R^2$: %.2f' % result.rsquared_adj,\n",
    "#                'AIC: %.2f' % result.aic], \n",
    "#               handlelength=0, handletextpad=0, loc=1).legendHandles[0].set_visible(False)\n",
    "\n",
    "print(\"Adjusted R^2 is: %.2f\" % results3.rsquared_adj)\n",
    "print(\"AIC is: %.2f\" % results3.aic)"
   ]
  },
  {
   "cell_type": "markdown",
   "metadata": {},
   "source": [
    "these plots are misleading because the model lines are fit at equally spaced dates but the data is not measured at equally spaced times"
   ]
  },
  {
   "cell_type": "markdown",
   "metadata": {},
   "source": [
    "## Massflow Prediction"
   ]
  },
  {
   "cell_type": "code",
   "execution_count": null,
   "metadata": {},
   "outputs": [],
   "source": [
    "# #For future reference \n",
    "# from dateutil import parser\n",
    "# date=parser.parse(date)     #turning string input into a date"
   ]
  },
  {
   "cell_type": "code",
   "execution_count": null,
   "metadata": {},
   "outputs": [],
   "source": [
    "# this function works with a dataframe of inputs to predict the mf given the date, well and whp of each row in the dataframe\n",
    "# the rows of the input dataframe need to be \"date\", \"whp\" and \"well name\" respectively\n",
    "#this function works when model has been fit on a single well, to predict the massflow of that well at a single date and whp\n",
    "    #date as string \"YYYY-MM-DD\" or \"DD/MM/YYYY\" but code will convert it to the former format\n",
    "    #result is model.fit from regression\n",
    "\n",
    "\n",
    "def predict_mf(result, date_whp_well):\n",
    "    pd.options.mode.chained_assignment = None\n",
    "    date_whp_well['date']=pd.to_datetime(date_whp_well['date'])\n",
    "    date_whp_well['date_numeric'] = (date_whp_well['date'] - first_date)  / np.timedelta64(1,'D') #  date_numeric = days since first day in data\n",
    "    date_whp_well['mf^2'] = result.predict(date_whp_well)\n",
    "    \n",
    "    #get rid of negative mf^2 values as cant take square root of negative\n",
    "    date_whp_well.loc[date_whp_well['mf^2'] < 0, 'mf^2'] = np.nan\n",
    "    date_whp_well['mf_pred']=np.sqrt(date_whp_well['mf^2'])\n",
    "    return "
   ]
  },
  {
   "cell_type": "code",
   "execution_count": null,
   "metadata": {},
   "outputs": [],
   "source": [
    "###TESTING\n",
    "testdate=['2010-01-20'] #both date forms work\n",
    "# testdate=['20/01/2010']\n",
    "testwhp=[10]\n",
    "test1=pd.DataFrame.from_records([('2010-01-20', 10, 'wk255')], columns=['date', 'whp', 'well']) \n",
    "test2=pd.DataFrame(list(product(testdate, testwhp, wells)), columns=['date', 'whp', 'well']) \n",
    "\n",
    "print(test1)\n",
    "\n",
    "predict_mf(results3, test1) #this doesnt work when model is fit with multiple wells\n",
    "test1"
   ]
  },
  {
   "cell_type": "code",
   "execution_count": null,
   "metadata": {},
   "outputs": [],
   "source": [
    "print(test2)\n",
    "predict_mf(results3, test2)\n",
    "test2"
   ]
  },
  {
   "cell_type": "code",
   "execution_count": null,
   "metadata": {},
   "outputs": [],
   "source": [
    "#predict on real data\n",
    "testdatafinal=df[['date','whp','well']]\n",
    "predict_mf(results3, testdatafinal)\n",
    "testdatafinal.head()"
   ]
  },
  {
   "cell_type": "code",
   "execution_count": null,
   "metadata": {},
   "outputs": [],
   "source": [
    "testdatafinal['mf_data']=df['mf']"
   ]
  },
  {
   "cell_type": "code",
   "execution_count": null,
   "metadata": {},
   "outputs": [],
   "source": [
    "testdatafinal.head()"
   ]
  },
  {
   "cell_type": "code",
   "execution_count": null,
   "metadata": {},
   "outputs": [],
   "source": [
    "testdatafinal['%diff']=abs((testdatafinal['mf_data']-testdatafinal['mf_pred']))/testdatafinal['mf_data']\n",
    "\n",
    "\n",
    "# trying to make a conditional plot\n",
    "# import seaborn as sns\n",
    "# x=pd.Series(testdatafinal['%diff'], name=\"percentage diff\")\n",
    "# sns.distplot(x)\n"
   ]
  },
  {
   "cell_type": "code",
   "execution_count": null,
   "metadata": {},
   "outputs": [],
   "source": [
    "print(max(testdatafinal['%diff']))\n",
    "print(testdatafinal['%diff'].mean())\n",
    "print(testdatafinal['%diff'].median())"
   ]
  },
  {
   "cell_type": "code",
   "execution_count": null,
   "metadata": {},
   "outputs": [],
   "source": [
    "#From spreadsheet vs from function for wk255 on '2010-01-20'\n",
    "whp\tmf           Function Output\n",
    "0\t889.3421164  953.86\n",
    "2\t881.8303238\n",
    "4\t858.9008557  920.19\n",
    "6\t819.2602029  876.29\n",
    "8\t760.2989675  810.84\n",
    "10\t676.9877399  717.97\n",
    "12\t558.5346184\n",
    "14\t372.8271449\n",
    "15\t206.2550605  150.10\n",
    "\n",
    "\n"
   ]
  }
 ],
 "metadata": {
  "kernelspec": {
   "display_name": "Python 3",
   "language": "python",
   "name": "python3"
  },
  "language_info": {
   "codemirror_mode": {
    "name": "ipython",
    "version": 3
   },
   "file_extension": ".py",
   "mimetype": "text/x-python",
   "name": "python",
   "nbconvert_exporter": "python",
   "pygments_lexer": "ipython3",
   "version": "3.6.4"
  }
 },
 "nbformat": 4,
 "nbformat_minor": 2
}
