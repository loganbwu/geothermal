{
 "cells": [
  {
   "cell_type": "markdown",
   "metadata": {},
   "source": [
    "# ENGSCI 700 Geothermal Reservoir Optimisation\n",
    "\n",
    "This workbook is for extracting Contact well data and recreating the plots.\n",
    "\n",
    "(Unix) launch with `cd src` >`jupyter notebook`\n",
    "\n",
    "File structure: \n",
    "```\n",
    "(root)\n",
    "├── src\n",
    "│    └── Python Test.ipynb\n",
    "└── wairakei_data\n",
    "     └── Liquid wells (version 1).xlsx\n",
    "```"
   ]
  },
  {
   "cell_type": "code",
   "execution_count": null,
   "metadata": {},
   "outputs": [],
   "source": [
    "import pandas as pd\n",
    "import numpy as np\n",
    "import seaborn as sns\n",
    "import matplotlib.pyplot as plt\n",
    "%matplotlib inline\n",
    "\n",
    "try:\n",
    "    xl\n",
    "except:\n",
    "    xl = pd.ExcelFile('../wairakei_data/Liquid wells (version 1).xlsx')\n",
    "print(xl.sheet_names[:5], '...')"
   ]
  },
  {
   "cell_type": "markdown",
   "metadata": {},
   "source": [
    "## Prepare data"
   ]
  },
  {
   "cell_type": "code",
   "execution_count": null,
   "metadata": {},
   "outputs": [],
   "source": [
    "df = xl.parse('wk255')                                       # select well data\n",
    "df = df.loc[:, ~df.columns.str.contains('^Unnamed|SUMMARY')] # remove extra columns\n",
    "df['mf'] = pd.to_numeric(df['mf'], errors='coerce')          # remove 'dummy' entries\n",
    "df = df.dropna(subset=['date', 'whp', 'mf'])                 # remove NA\n",
    "print(df.head())"
   ]
  },
  {
   "cell_type": "markdown",
   "metadata": {},
   "source": [
    "## Create exploratory plots"
   ]
  },
  {
   "cell_type": "code",
   "execution_count": null,
   "metadata": {},
   "outputs": [],
   "source": [
    "cmap = plt.get_cmap('viridis')\n",
    "indices = np.linspace(0, cmap.N, len(df))\n",
    "my_colors = [cmap(int(i)) for i in indices]\n",
    "\n",
    "fig, (ax1, ax2) = plt.subplots(1,2)\n",
    "\n",
    "df.plot('date', 'whp', style='x', ax=ax1)\n",
    "ax1.set_xlabel('date')\n",
    "ax1.set_ylabel('whp')\n",
    "\n",
    "for i, idx in enumerate(df.index):\n",
    "    ax2.plot(df.loc[idx, 'whp'], df.loc[idx, 'mf'], 'o', color=my_colors[i])\n",
    "ax2.set_xlabel('whp')\n",
    "ax2.set_ylabel('mf')\n",
    "plt.show()"
   ]
  },
  {
   "cell_type": "markdown",
   "metadata": {},
   "source": [
    "## Set up regression data and create prediction frame for plotting"
   ]
  },
  {
   "cell_type": "code",
   "execution_count": null,
   "metadata": {},
   "outputs": [],
   "source": [
    "from itertools import product\n",
    "\n",
    "# convert date to a numeric value (days since first)\n",
    "df['date_numeric'] = (df['date'] - df['date'].min())  / np.timedelta64(1,'D')\n",
    "\n",
    "# generate prediction dataframe for plotting\n",
    "date_pred = np.linspace(np.min(df['date_numeric']), np.max(df['date_numeric']), 6)\n",
    "whp_pred = np.linspace(0, 16, 1000)\n",
    "pred = pd.DataFrame(list(product(date_pred, whp_pred)), columns=['date_numeric', 'whp'])"
   ]
  },
  {
   "cell_type": "markdown",
   "metadata": {},
   "source": [
    "## Perform regression and prediction"
   ]
  },
  {
   "cell_type": "code",
   "execution_count": null,
   "metadata": {},
   "outputs": [],
   "source": [
    "from statsmodels.formula.api import ols\n",
    "\n",
    "# Not conditioned on date\n",
    "model1 = ols(\"mf ~ whp\", data=df)\n",
    "results1 = model1.fit()\n",
    "pred['mf1'] = results1.predict(pred)\n",
    "\n",
    "# Linear fit dependent on date\n",
    "model2 = ols(\"mf ~ whp + date_numeric\", data=df)\n",
    "results2 = model2.fit()\n",
    "pred['mf2'] = results2.predict(pred)\n",
    "\n",
    "# Elliptic fit dependent on date\n",
    "model3 = ols(\"np.power(mf,2) ~ np.power(whp,2) + date_numeric\", data=df)\n",
    "results3 = model3.fit()\n",
    "pred['mf^2'] = results3.predict(pred)\n",
    "pred['mf^2'][pred['mf^2'] < 0] = np.nan # remove invalid results\n",
    "pred['mf3'] = np.sqrt(pred['mf^2'])"
   ]
  },
  {
   "cell_type": "markdown",
   "metadata": {},
   "source": [
    "## Create plots"
   ]
  },
  {
   "cell_type": "code",
   "execution_count": null,
   "metadata": {},
   "outputs": [],
   "source": [
    "# ===============================================================\n",
    "# Set up axes\n",
    "# ===============================================================\n",
    "\n",
    "from matplotlib.colors import Normalize\n",
    "from matplotlib.colorbar import ColorbarBase\n",
    "\n",
    "# colors\n",
    "indices = np.linspace(0, cmap.N, len(df))\n",
    "my_colors = [cmap(int(i)) for i in indices]\n",
    "\n",
    "# subplots\n",
    "fig, (ax1, ax2, ax3, ax4) = plt.subplots(1, 4, figsize=[9,4], gridspec_kw={'width_ratios': [9,9,9,1]})\n",
    "ax1.get_shared_y_axes().join(ax1, ax2, ax3)\n",
    "ax1.set_ylim([0, 1000])\n",
    "ax1.set_title('$mf \\sim whp$')\n",
    "ax1.set_ylabel('Mass flow')\n",
    "ax1.set_xlabel(\"Well head pressure\")\n",
    "ax1.set_xlim(5, 16)\n",
    "ax2.set_title('$mf \\sim whp + date$')\n",
    "ax3.set_title('$mf^2 \\sim whp^2 + date$')\n",
    "for ax in [ax2, ax3]:\n",
    "    ax.set_yticklabels([])\n",
    "    ax.set_xlim(5, 16)\n",
    "\n",
    "# create date colorbar\n",
    "indices = np.linspace(0, cmap.N, len(date_pred))\n",
    "my_colors = [cmap(int(i)) for i in indices]\n",
    "norm = Normalize(np.min(df['date']).year, np.max(df['date']).year)\n",
    "cb = ColorbarBase(ax4, cmap=cmap, norm=norm, orientation='vertical')\n",
    "cb.set_label('Year')\n",
    "\n",
    "# ===============================================================\n",
    "# Plot data\n",
    "# ===============================================================\n",
    "\n",
    "# plot data points\n",
    "for ax in [ax1, ax2, ax3]:\n",
    "    ax.scatter(df['whp'], df['mf'], cmap=cmap, c=df['date'])\n",
    "    \n",
    "# model 1\n",
    "ax1.plot(pred[pred['date_numeric']==np.min(pred['date_numeric'])]['whp'],\n",
    "         pred[pred['date_numeric']==np.min(pred['date_numeric'])]['mf1'])\n",
    "\n",
    "# model 2 & 3\n",
    "for i, date in enumerate(date_pred):\n",
    "    ax2.plot(pred['whp'][pred['date_numeric']==date], pred['mf2'][pred['date_numeric']==date], c=my_colors[i])\n",
    "    ax3.plot(pred['whp'][pred['date_numeric']==date], pred['mf3'][pred['date_numeric']==date], c=my_colors[i])\n",
    "\n",
    "# show model selection criteria\n",
    "for ax, result in zip([ax1, ax2, ax3], [results1, results2, results3]):\n",
    "    ax.legend(['Adj $R^2$: %.2f' % result.rsquared_adj,\n",
    "               'AIC: %.2f' % result.aic], \n",
    "              handlelength=0, handletextpad=0, loc=1).legendHandles[0].set_visible(False)"
   ]
  },
  {
   "cell_type": "code",
   "execution_count": null,
   "metadata": {},
   "outputs": [],
   "source": [
    "df.plot('date', 'h', style='o', alpha=0.5)\n",
    "plt.show()"
   ]
  }
 ],
 "metadata": {
  "kernelspec": {
   "display_name": "Python 3",
   "language": "python",
   "name": "python3"
  },
  "language_info": {
   "codemirror_mode": {
    "name": "ipython",
    "version": 3
   },
   "file_extension": ".py",
   "mimetype": "text/x-python",
   "name": "python",
   "nbconvert_exporter": "python",
   "pygments_lexer": "ipython3",
   "version": "3.6.4"
  }
 },
 "nbformat": 4,
 "nbformat_minor": 2
}
