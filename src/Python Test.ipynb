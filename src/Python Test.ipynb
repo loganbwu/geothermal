{
 "cells": [
  {
   "cell_type": "markdown",
   "metadata": {},
   "source": [
    "This workbook is for extracting WK255 data and recreating the plots.\n",
    "\n",
    "File structure: \n",
    "```\n",
    "(root)\n",
    "├── src\n",
    "│    └── Python Test.ipynb\n",
    "└── wairakei_data\n",
    "     └── Liquid wells (version 1).xlsx\n",
    "```"
   ]
  },
  {
   "cell_type": "code",
   "execution_count": null,
   "metadata": {},
   "outputs": [],
   "source": [
    "import pandas as pd\n",
    "import numpy as np\n",
    "import seaborn as sns\n",
    "import matplotlib.pyplot as plt\n",
    "\n",
    "try:\n",
    "    xl\n",
    "except:\n",
    "    xl = pd.ExcelFile('../wairakei_data/Liquid wells (version 1).xlsx')\n",
    "print(xl.sheet_names[:5], '...')"
   ]
  },
  {
   "cell_type": "code",
   "execution_count": null,
   "metadata": {},
   "outputs": [],
   "source": [
    "# remove rows at end\n",
    "df = xl.parse('wk255')\n",
    "df = df.loc[:, ~df.columns.str.contains('^Unnamed|SUMMARY')]\n",
    "df['mf'] = pd.to_numeric(df['mf'], errors='coerce')\n",
    "df = df.dropna(subset=['date', 'whp', 'mf'])\n",
    "print(df.head())"
   ]
  },
  {
   "cell_type": "code",
   "execution_count": null,
   "metadata": {},
   "outputs": [],
   "source": [
    "# create exploratory plots\n",
    "\n",
    "cmap = plt.get_cmap('viridis')\n",
    "indices = np.linspace(0, cmap.N, len(df))\n",
    "my_colors = [cmap(int(i)) for i in indices]\n",
    "\n",
    "fig, (ax1, ax2) = plt.subplots(1,2)\n",
    "\n",
    "df.plot('date', 'whp', style='x', ax=ax1)\n",
    "ax1.set_xlabel('date')\n",
    "ax1.set_ylabel('whp')\n",
    "\n",
    "for i, idx in enumerate(df.index):\n",
    "    ax2.plot(df.loc[idx, 'whp'], df.loc[idx, 'mf'], 'o', color=my_colors[i])\n",
    "ax2.set_xlabel('whp')\n",
    "ax2.set_ylabel('mf')\n",
    "plt.show()"
   ]
  },
  {
   "cell_type": "code",
   "execution_count": null,
   "metadata": {},
   "outputs": [],
   "source": [
    "# fit regression model\n",
    "\n",
    "from sklearn import linear_model\n",
    "from statsmodels.formula.api import ols\n",
    "from sklearn.metrics import mean_squared_error, r2_score\n",
    "from itertools import product\n",
    "\n",
    "# convert date to a numeric value (days since first)\n",
    "df['date_numeric'] = (df['date'] - df['date'].min())  / np.timedelta64(1,'D')\n",
    "\n",
    "# generate prediction data for plotting\n",
    "date_pred = np.linspace(np.min(df['date_numeric']), np.max(df['date_numeric']), 6)\n",
    "whp_pred = np.array([np.min(df['whp']), np.max(df['whp'])])\n",
    "pred = pd.DataFrame(list(product(date_pred, whp_pred)), columns=['date_numeric', 'whp'])\n",
    "\n",
    "print(pred)\n",
    "\n",
    "# Not conditioned on date\n",
    "model = ols(\"mf ~ whp\", data=df)\n",
    "results = model.fit()\n",
    "\n",
    "pred['mf'] = results.predict(pred)\n",
    "\n",
    "# plot\n",
    "indices = np.linspace(0, cmap.N, len(df))\n",
    "my_colors = [cmap(int(i)) for i in indices]\n",
    "fig, (ax1, ax2) = plt.subplots(1,2, sharey=True)\n",
    "for i, idx in enumerate(df.index):\n",
    "    ax1.plot(df.loc[idx, 'whp'], df.loc[idx, 'mf'], 'o', color=my_colors[i])\n",
    "    ax2.plot(df.loc[idx, 'whp'], df.loc[idx, 'mf'], 'o', color=my_colors[i])\n",
    "\n",
    "ax1.plot(pred['whp'], pred['mf'])\n",
    "ax1.set_title('mf ~ whp')\n",
    "\n",
    "# Condition on date\n",
    "model = ols(\"mf ~ whp * date_numeric\", data=df)\n",
    "results = model.fit()\n",
    "# print(results.summary())\n",
    "\n",
    "pred['mf'] = results.predict(pred)\n",
    "ax2.set_title('mf ~ whp + date')\n",
    "\n",
    "# plot\n",
    "indices = np.linspace(0, cmap.N, len(pred))\n",
    "my_colors = [cmap(int(i)) for i in indices]\n",
    "for i, date in enumerate(date_pred):\n",
    "    ax2.plot(pred['whp'][pred['date_numeric']==date], pred['mf'][pred['date_numeric']==date], color=my_colors[i])\n",
    "\n",
    "\n",
    "plt.show()"
   ]
  },
  {
   "cell_type": "code",
   "execution_count": null,
   "metadata": {},
   "outputs": [],
   "source": [
    "df.plot('date', 'h', style='o', alpha=0.5)\n",
    "plt.show()"
   ]
  },
  {
   "cell_type": "code",
   "execution_count": null,
   "metadata": {},
   "outputs": [],
   "source": []
  }
 ],
 "metadata": {
  "kernelspec": {
   "display_name": "Python 3",
   "language": "python",
   "name": "python3"
  },
  "language_info": {
   "codemirror_mode": {
    "name": "ipython",
    "version": 3
   },
   "file_extension": ".py",
   "mimetype": "text/x-python",
   "name": "python",
   "nbconvert_exporter": "python",
   "pygments_lexer": "ipython3",
   "version": "3.6.4"
  }
 },
 "nbformat": 4,
 "nbformat_minor": 2
}
