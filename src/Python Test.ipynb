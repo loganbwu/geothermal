{
 "cells": [
  {
   "cell_type": "markdown",
   "metadata": {},
   "source": [
    "This workbook is for extracting WK255 data and recreating the plots.\n",
    "\n",
    "File structure: \n",
    "```\n",
    "(root)\n",
    "├── src\n",
    "│    └── Python Test.ipynb\n",
    "└── wairakei_data\n",
    "     └── Liquid wells (version 1).xlsx\n",
    "```"
   ]
  },
  {
   "cell_type": "code",
   "execution_count": 35,
   "metadata": {},
   "outputs": [
    {
     "name": "stdout",
     "output_type": "stream",
     "text": [
      "['WK26A', 'WK26A trend ', 'WK26A trend  (2)', 'WK26B', 'WK26B trend '] ...\n"
     ]
    }
   ],
   "source": [
    "import pandas as pd\n",
    "import numpy as np\n",
    "import matplotlib.pyplot as plt\n",
    "\n",
    "if not xl:\n",
    "    xl = pd.ExcelFile('../wairakei_data/Liquid wells (version 1).xlsx')\n",
    "print(xl.sheet_names[:5], '...')"
   ]
  },
  {
   "cell_type": "code",
   "execution_count": 58,
   "metadata": {},
   "outputs": [
    {
     "name": "stdout",
     "output_type": "stream",
     "text": [
      "        date        whp          mf            h      mf eqn     h eqn  \\\n",
      "0 2008-12-18  13.028442  507.776080  1030.000000  508.479408       NaN   \n",
      "1 2008-12-18  14.841479  283.165920  1030.000000  258.880938       NaN   \n",
      "2 2008-12-18  14.939021  208.716385  1030.000000  236.661124       NaN   \n",
      "3 2009-04-08  13.466667  498.071714  1054.230235  495.384693  1051.888   \n",
      "4 2009-04-08  13.800000  457.879864  1040.519288  462.216261  1044.108   \n",
      "\n",
      "          diff       whp^2           MF^2  slope  intercept  \n",
      "0 -1030.000000  169.740297  257836.547309    NaN        NaN  \n",
      "1 -1030.000000  220.269504   80182.938430    NaN        NaN  \n",
      "2 -1030.000000  223.174343   43562.529173    NaN        NaN  \n",
      "3    -2.342235  181.351111  248075.432672    NaN        NaN  \n",
      "4     3.588712  190.440000  209653.969408    NaN        NaN  \n"
     ]
    }
   ],
   "source": [
    "# remove rows at end\n",
    "df = xl.parse('wk255')\n",
    "df = df.loc[:, ~df.columns.str.contains('^Unnamed|SUMMARY')]\n",
    "df['mf'] = pd.to_numeric(df['mf'], errors='coerce')\n",
    "df = df[pd.notnull(df['date'])]\n",
    "print(df.head())"
   ]
  },
  {
   "cell_type": "code",
   "execution_count": 84,
   "metadata": {},
   "outputs": [
    {
     "data": {
      "image/png": "[encoded data removed]",
      "text/plain": [
       "<Figure size 432x288 with 2 Axes>"
      ]
     },
     "metadata": {},
     "output_type": "display_data"
    }
   ],
   "source": [
    "# create exploratory plots\n",
    "\n",
    "cmap = plt.get_cmap('viridis')\n",
    "indices = np.linspace(0, cmap.N, len(df))\n",
    "my_colors = [cmap(int(i)) for i in indices]\n",
    "\n",
    "fig, (ax1, ax2) = plt.subplots(1,2)\n",
    "\n",
    "df.plot('date', 'whp', style='x', ax=ax1)\n",
    "ax1.set_xlabel('date')\n",
    "ax2.set_ylabel('whp')\n",
    "\n",
    "for i, idx in enumerate(df.index):\n",
    "    ax2.plot(df.loc[idx, 'whp'], df.loc[idx, 'mf'], 'o', color=my_colors[i])\n",
    "# df.plot('whp', 'mf', ax=ax2, style='o')\n",
    "ax2.set_xlabel('whp')\n",
    "ax2.set_ylabel('mf')\n",
    "plt.show()"
   ]
  },
  {
   "cell_type": "code",
   "execution_count": null,
   "metadata": {},
   "outputs": [],
   "source": []
  }
 ],
 "metadata": {
  "kernelspec": {
   "display_name": "Python 3",
   "language": "python",
   "name": "python3"
  },
  "language_info": {
   "codemirror_mode": {
    "name": "ipython",
    "version": 3
   },
   "file_extension": ".py",
   "mimetype": "text/x-python",
   "name": "python",
   "nbconvert_exporter": "python",
   "pygments_lexer": "ipython3",
   "version": "3.6.4"
  }
 },
 "nbformat": 4,
 "nbformat_minor": 2
}
